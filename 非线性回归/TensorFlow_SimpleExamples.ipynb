{
 "cells": [
  {
   "cell_type": "code",
   "execution_count": 13,
   "metadata": {},
   "outputs": [],
   "source": [
    "import tensorflow as tf\n",
    "import numpy as np\n",
    "import matplotlib.pyplot as plt"
   ]
  },
  {
   "cell_type": "code",
   "execution_count": 7,
   "metadata": {},
   "outputs": [
    {
     "name": "stdout",
     "output_type": "stream",
     "text": [
      "0 [0.052179288, 0.09961346]\n",
      "20 [0.10224261, 0.19882217]\n",
      "40 [0.101310045, 0.19931202]\n",
      "60 [0.100765266, 0.19959812]\n",
      "80 [0.10044704, 0.19976524]\n",
      "100 [0.10026114, 0.19986287]\n",
      "120 [0.10015253, 0.1999199]\n",
      "140 [0.100089096, 0.19995321]\n",
      "160 [0.10005204, 0.19997267]\n",
      "180 [0.1000304, 0.19998404]\n",
      "200 [0.10001775, 0.19999067]\n"
     ]
    }
   ],
   "source": [
    "#使用numpy生成100个随机点\n",
    "x_data = np.random.rand(100)\n",
    "y_data = x_data*0.1 + 0.2\n",
    "# 构造一个线性模型\n",
    "# k,b初始为0 ，待训练\n",
    "# y为预测值\n",
    "b = tf.Variable(0.)\n",
    "k = tf.Variable(0.)\n",
    "y = k*x_data + b\n",
    "# 二次代价函数\n",
    "loss = tf.reduce_mean(tf.square(y_data - y))\n",
    "# 定义一个梯度下降法来进行训练的优化器,训练k和b的值\n",
    "optimizer = tf.train.GradientDescentOptimizer(0.2)\n",
    "# 最小化代价函数\n",
    "train = optimizer.minimize(loss)\n",
    "# 初始化变量\n",
    "init = tf.global_variables_initializer()\n",
    "\n",
    "with tf.Session() as sess:\n",
    "    sess.run(init)\n",
    "    for step in range(201):\n",
    "        sess.run(train)\n",
    "        if step%20 == 0:\n",
    "            print(step,sess.run([k,b]))"
   ]
  },
  {
   "cell_type": "code",
   "execution_count": 22,
   "metadata": {},
   "outputs": [
    {
     "data": {
      "image/png": "[encoded data removed]",
      "text/plain": [
       "<Figure size 432x288 with 1 Axes>"
      ]
     },
     "metadata": {},
     "output_type": "display_data"
    }
   ],
   "source": [
    "# 非线性回归\n",
    "# 输入层: 1 , 中间层：10  输出层：1\n",
    "\n",
    "# 使用numpy生成200个随机点\n",
    "# linspace：从-0.5到0.5均匀生成200个点，包含-0.5--0.5\n",
    "x_data = np.linspace(-0.5,0.5,200)[:,np.newaxis]\n",
    "# 干扰项，噪音\n",
    "noise = np.random.normal(0,0.02,x_data.shape)\n",
    "y_data = np.square(x_data) + noise\n",
    "\n",
    "# 定义两个占位符，待输入的数据\n",
    "x = tf.placeholder(tf.float32,[None,1])\n",
    "y = tf.placeholder(tf.float32,[None,1])\n",
    "\n",
    "# 神经网络输入层与中间层的参数：权重，偏置值，激活函数tanh\n",
    "# 初始时随机生成值，待训练\n",
    "Weights_L1 = tf.Variable(tf.random_normal([1,10]))\n",
    "biases_L1 = tf.Variable(tf.zeros([1,10]))\n",
    "Wx_plus_b_L1 = tf.matmul(x,Weights_L1) + biases_L1\n",
    "L1 = tf.nn.tanh(Wx_plus_b_L1)\n",
    "\n",
    "# 神经网络中间层与输出层\n",
    "Weights_L2 = tf.Variable(tf.random_normal([10,1]))\n",
    "biases_L2 = tf.Variable(tf.zeros([1,1]))\n",
    "Wx_plus_b_L2 = tf.matmul(L1,Weights_L2) + biases_L2\n",
    "# 预测的输出值\n",
    "prediction = tf.nn.tanh(Wx_plus_b_L2)\n",
    "# 二次代价函数\n",
    "loss = tf.reduce_mean(tf.square(y - prediction))\n",
    "# 使用梯度下降法训练，最小化loss\n",
    "train_step = tf.train.GradientDescentOptimizer(0.3).minimize(loss)\n",
    "\n",
    "with tf.Session() as sess:\n",
    "    # 变量初始化\n",
    "    sess.run(tf.global_variables_initializer())\n",
    "    for _ in range(2000):\n",
    "        # 开始训练，传入输入值x，与真实值y\n",
    "        sess.run(train_step,feed_dict={x:x_data,y:y_data})\n",
    "    # 训练结束，开始预测\n",
    "    prediction_value = sess.run(prediction,feed_dict={x:x_data})\n",
    "    \n",
    "    # 画图\n",
    "    plt.figure()\n",
    "    # 散点图打印样本点\n",
    "    plt.scatter(x_data,y_data)\n",
    "    # 预测结果，'r-': r表示红色，-表示实线，lw：线宽\n",
    "    plt.plot(x_data,prediction_value,'r-',lw = 5)\n",
    "    plt.show()\n"
   ]
  },
  {
   "cell_type": "code",
   "execution_count": null,
   "metadata": {},
   "outputs": [],
   "source": []
  }
 ],
 "metadata": {
  "kernelspec": {
   "display_name": "Python 3",
   "language": "python",
   "name": "python3"
  },
  "language_info": {
   "codemirror_mode": {
    "name": "ipython",
    "version": 3
   },
   "file_extension": ".py",
   "mimetype": "text/x-python",
   "name": "python",
   "nbconvert_exporter": "python",
   "pygments_lexer": "ipython3",
   "version": "3.6.5"
  }
 },
 "nbformat": 4,
 "nbformat_minor": 2
}
